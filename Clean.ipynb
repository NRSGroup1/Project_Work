{
 "cells": [
  {
   "cell_type": "markdown",
   "metadata": {},
   "source": [
    "# NRS - Project Work - Group 1"
   ]
  },
  {
   "cell_type": "markdown",
   "metadata": {},
   "source": [
    "### Importing Libraries and Data"
   ]
  },
  {
   "cell_type": "code",
   "execution_count": 1,
   "metadata": {},
   "outputs": [],
   "source": [
    "import pandas as pd\n",
    "import numpy as np\n",
    "\n",
    "%matplotlib inline\n",
    "import seaborn as sns\n",
    "import matplotlib.pyplot as plt\n",
    "\n",
    "# for sentiment analysis\n",
    "from textblob import TextBlob\n",
    "\n",
    "from sklearn.preprocessing import OrdinalEncoder\n",
    "from sklearn import metrics\n",
    "\n",
    "from sklearn.metrics import plot_confusion_matrix # plot confusion matrix\n",
    "from sklearn.model_selection import train_test_split #split train & test\n",
    "from sklearn.model_selection import GridSearchCV #gridsearch\n",
    "from sklearn.metrics import classification_report #further metric\n",
    "\n",
    "missing_values = [''] #define values to be identified as NaN in the datasets \n",
    "#,'Undefined', 'Undefined->Undefined'\n",
    "\n",
    "\n",
    "df_crm = pd.read_csv('crm_model.csv', keep_default_na=False, na_values=missing_values, decimal=',') #import CRM_model\n",
    "df_finance = pd.read_csv('finance_model.csv', keep_default_na=False, na_values=missing_values, decimal=',') #import finance_model\n",
    "df_sales = pd.read_csv('sales_model.csv', keep_default_na=False, na_values=missing_values, decimal=',') #import sales_model\n",
    "#df_twitter_sentiment = pd.read_csv('twitter_azure.csv', keep_default_na=False, na_values=missing_values, decimal=',') #import twitter_azure"
   ]
  },
  {
   "cell_type": "markdown",
   "metadata": {},
   "source": [
    "<a id=\"Joining_Datasets\"></a>"
   ]
  },
  {
   "cell_type": "markdown",
   "metadata": {},
   "source": [
    "### Joining Datasets"
   ]
  },
  {
   "cell_type": "code",
   "execution_count": 2,
   "metadata": {},
   "outputs": [],
   "source": [
    "# column id renaming to join the datasets\n",
    "df_crm = df_crm.rename(columns={'ID_CRM': 'id'}) \n",
    "df_finance = df_finance.rename(columns={'ID_FINANCE': 'id'})\n",
    "df_sales = df_sales.rename(columns={'ID_SALES': 'id'})\n",
    "#df_twitter_sentiment = df_twitter_sentiment.rename(columns={'ID_SALES': 'id'})"
   ]
  },
  {
   "cell_type": "markdown",
   "metadata": {},
   "source": [
    "By observing the structure of each id we find a pattern to extract a common unique id:\n",
    "\n",
    "<img src=\"img/ID_schema.png\"></img>"
   ]
  },
  {
   "cell_type": "code",
   "execution_count": 3,
   "metadata": {},
   "outputs": [],
   "source": [
    "# df_crm unique_id extraction\n",
    "df_crm.id = np.where(df_crm.Income_Level.str.len() == 2,\\\n",
    "                     df_crm.id.str.slice(start = 1, stop = -2),\\\n",
    "                     df_crm.id.str.slice(start = 1, stop = -1))\n",
    "\n",
    "# df_finance unique_id extraction\n",
    "df_finance.id = np.where(df_finance.Special_Pay.str.len() == 2,\\\n",
    "                         df_finance.id.str.slice(start = 2),\\\n",
    "                         df_finance.id.str.slice(start = 0))\n",
    "\n",
    "# df_sales unique_id extraction\n",
    "df_sales.id = np.where(df_sales.Program_Code.str.len() == 2,\\\n",
    "                       df_sales.id.str.slice(start = 2, stop = -1),\\\n",
    "                       df_sales.id.str.slice(start = 3, stop = -1))\n",
    "\n",
    "# df_twitter unique_id extraction\n",
    "# df_twitter_sentiment.id = df_twitter_sentiment.id.str.extract(r'(\\d+)', expand=False)"
   ]
  },
  {
   "cell_type": "code",
   "execution_count": 4,
   "metadata": {},
   "outputs": [
    {
     "data": {
      "text/plain": [
       "(4148, 54)"
      ]
     },
     "execution_count": 4,
     "metadata": {},
     "output_type": "execute_result"
    }
   ],
   "source": [
    "# create a single table to join the datasets\n",
    "df_merged = df_sales.merge(df_crm, on=\"id\", how=\"inner\").merge(df_finance, on=\"id\", how=\"inner\") #.merge(df_twitter_sentiment, on=\"id\", how=\"inner\")\n",
    "df_merged.shape"
   ]
  },
  {
   "cell_type": "markdown",
   "metadata": {},
   "source": [
    "### Data preparation"
   ]
  },
  {
   "cell_type": "code",
   "execution_count": 5,
   "metadata": {},
   "outputs": [],
   "source": [
    "df = df_merged.copy()"
   ]
  },
  {
   "cell_type": "code",
   "execution_count": 6,
   "metadata": {},
   "outputs": [],
   "source": [
    "def dummification(df):\n",
    "    \n",
    "    #_______________ Categorical Dummification\n",
    "    categorical = df.select_dtypes(exclude=np.number).columns.tolist()\n",
    "    df = pd.get_dummies(df, columns = categorical, prefix = categorical)\n",
    "    \n",
    "    return df"
   ]
  },
  {
   "cell_type": "code",
   "execution_count": 7,
   "metadata": {},
   "outputs": [],
   "source": [
    "def cleaning_1(df):\n",
    "    #______________ id\n",
    "    df.drop(columns=['id'], inplace=True)\n",
    "\n",
    "\n",
    "    #______________ Program_Code\n",
    "    #wrong value replaced with na\n",
    "    df['Program_Code'] = df['Program_Code'].replace({'FN': np.nan})\n",
    "    #missing values replaced with mode of the parent group\n",
    "    df['Program_Code'] = df.groupby(['MajorProgramCode'], sort=False)['Program_Code'].apply(lambda x: x.fillna(x.mode().iloc[0]))\n",
    "\n",
    "\n",
    "    #______________ From_Grade\n",
    "    #missing values replaced with the median\n",
    "    df['From_Grade'] = df['From_Grade'].fillna(df['From_Grade'].median())\n",
    "\n",
    "\n",
    "    #______________ To_Grade\n",
    "    #missing values replaced with the median (with respect to the subgroup)\n",
    "    df['To_Grade'] = df.groupby(['From_Grade'], sort=False)['To_Grade'].apply(lambda x: x.fillna(x.median()))\n",
    "    df['To_Grade'] = df['To_Grade'].fillna(df['To_Grade'].median())\n",
    "\n",
    "\n",
    "    #____**NEW**____ Delta_From_To_Grade\n",
    "    #new variable\n",
    "    df['Delta_From_To_Grade'] = df['To_Grade'] - df['From_Grade']\n",
    "\n",
    "\n",
    "    #conversion to datetime\n",
    "    df['Departure_Date'] = pd.to_datetime(df['Departure_Date'])\n",
    "\n",
    "\n",
    "    #____**NEW**____ Departure_Date_DoY\n",
    "    #conversion to day of the year\n",
    "    df['Departure_Date_DoY'] = df['Departure_Date'].dt.dayofyear\n",
    "\n",
    "    #_______________ Return_Date\n",
    "    #conversion to datetime\n",
    "    df['Return_Date'] = pd.to_datetime(df['Return_Date'])\n",
    "\n",
    "\n",
    "    #____**NEW**____ Return_Date_DoY\n",
    "    #conversion to day of the year\n",
    "    df['Return_Date_DoY'] = df['Return_Date'].dt.dayofyear\n",
    "\n",
    "\n",
    "    #_______________ Early_RPL\n",
    "    #_______________ Latest_RPL\n",
    "    #____**NEW**____ RPL_Value\n",
    "    df['Early_RPL'] = pd.to_datetime(df['Early_RPL'])\n",
    "    df['Latest_RPL'] = pd.to_datetime(df['Latest_RPL'])\n",
    "\n",
    "    df['RPL_Value'] = np.where( (df['Early_RPL'].isna()) & (df['Latest_RPL'].isna()), 0, 1)\n",
    "\n",
    "    df['Early_RPL'].fillna(df['Latest_RPL'].mode()[0], inplace=True)\n",
    "    df['Latest_RPL'].fillna(df['Latest_RPL'].mode()[0], inplace=True)\n",
    "\n",
    "    temp_min = df[['Early_RPL','Latest_RPL']].min(axis=1)\n",
    "    temp_max = df[['Early_RPL','Latest_RPL']].max(axis=1)\n",
    "\n",
    "    df['Early_RPL'] = temp_min\n",
    "    df['Latest_RPL'] = temp_max\n",
    "\n",
    "\n",
    "    #____**NEW**____ Early_RPL_DoY\n",
    "    #____**NEW**____ Latest_RPL_DoY\n",
    "    df['first_january'] = pd.to_datetime('1/1/' + str(df['Departure_Date'].dt.year[0]))\n",
    "    df['Early_RPL_DoY'] = df['Early_RPL'] - df['first_january']\n",
    "    df['Early_RPL_DoY'] = df['Early_RPL_DoY'].astype('timedelta64[D]').astype(int)\n",
    "    df['Latest_RPL_DoY'] = df['Latest_RPL'] - df['first_january']\n",
    "    df['Latest_RPL_DoY'] = df['Latest_RPL_DoY'].astype('timedelta64[D]').astype(int)\n",
    "\n",
    "\n",
    "    #_______________ Initial_System_Date\n",
    "    df['Initial_System_Date'] = pd.to_datetime(df['Initial_System_Date'])\n",
    "    df['Initial_System_Date'].fillna(df['Initial_System_Date'].mode()[0], inplace=True)\n",
    "\n",
    "\n",
    "    #____**NEW**____ Initial_System_Date_DoY\n",
    "    df['Initial_System_Date_DoY'] = df['Initial_System_Date'] - df['first_january']\n",
    "    df['Initial_System_Date_DoY'] = df['Initial_System_Date_DoY'].astype('timedelta64[D]').astype(int)\n",
    "\n",
    "\n",
    "    #______________ DepartureMonth\n",
    "    df.drop(columns=['DepartureMonth'], inplace=True)\n",
    "\n",
    "\n",
    "    #_______________ GroupGradeTypeLow\n",
    "    df['GroupGradeTypeLow'] = df['GroupGradeTypeLow'].fillna(df['GroupGradeTypeLow'].mode()[0])\n",
    "\n",
    "\n",
    "    #_______________ GroupGradeTypeHigh\n",
    "    df['GroupGradeTypeHigh'] = df.groupby(['GroupGradeTypeLow'], sort=False)['GroupGradeTypeHigh'].apply(lambda x: x.fillna(x.mode()[0]))\n",
    "    df['GroupGradeTypeHigh'] = df['GroupGradeTypeHigh'].fillna(df['GroupGradeTypeHigh'].mode()[0])\n",
    "\n",
    "\n",
    "    #_______________ GroupGradeType\n",
    "    df['GroupGradeType'] = df['GroupGradeTypeLow'] + '->' + df['GroupGradeTypeHigh']\n",
    "\n",
    "\n",
    "    #_______________ CRM_Segment\n",
    "    df['CRM_Segment'].fillna(df['CRM_Segment'].mode()[0], inplace=True)\n",
    "\n",
    "\n",
    "    #_______________ MDR_Low_Grade\n",
    "    #_______________ MDR_High_Grade\n",
    "    df['MDR_Low_Grade'].replace({'0': df['MDR_Low_Grade'].mode()[0]}, inplace=True)\n",
    "    df['MDR_High_Grade'].replace({'NA': df['MDR_High_Grade'].mode()[0]}, inplace=True)\n",
    "\n",
    "\n",
    "    #_______________ Total_School_Enrollment\n",
    "    df['Total_School_Enrollment'] = df['Total_School_Enrollment'].replace({0: np.nan})\n",
    "    df['Total_School_Enrollment'] = df['Total_School_Enrollment'].fillna(df['Total_School_Enrollment'].mean())\n",
    "\n",
    "\n",
    "    #_______________ FPP_to_School_enrollment\n",
    "    df['FPP_to_School_enrollment'] = df['FPP_to_School_enrollment'].fillna(df['FPP_to_School_enrollment'].mean())\n",
    "\n",
    "\n",
    "    #____**NEW**____ FPP_to_School_enrollment_rev\n",
    "    df['FPP_to_School_enrollment_rev'] = df['FPP'] / df['Total_School_Enrollment']\n",
    "\n",
    "\n",
    "    #_______________ Poverty_Code\n",
    "    df['Poverty_Code'] = df['Poverty_Code'].replace({'0': 'E'})\n",
    "\n",
    "\n",
    "    #_______________ Income_Level\n",
    "    df['Poverty_Code'] = df['Poverty_Code'].replace({'0': 'Z'})\n",
    "\n",
    "\n",
    "    #_______________ FirstMeeting\n",
    "    df['FirstMeeting'] = pd.to_datetime(df['FirstMeeting'])\n",
    "    df['FirstMeeting'].fillna(df['FirstMeeting'].mode()[0], inplace=True)\n",
    "\n",
    "\n",
    "    #____**NEW**____ FirstMeeting_DoY\n",
    "    df['FirstMeeting_DoY'] = df['FirstMeeting'] - df['first_january']\n",
    "    df['FirstMeeting_DoY'] = df['FirstMeeting_DoY'].astype('timedelta64[D]').astype(int)\n",
    "\n",
    "\n",
    "    #_______________ LastMeeting\n",
    "    df['LastMeeting'] = pd.to_datetime(df['LastMeeting'])\n",
    "    df['LastMeeting'].fillna(df['LastMeeting'].mode()[0], inplace=True)\n",
    "\n",
    "\n",
    "    #____**NEW**____ LastMeeting_DoY\n",
    "    df['LastMeeting_DoY'] = df['LastMeeting'] - df['first_january']\n",
    "    df['LastMeeting_DoY'] = df['LastMeeting_DoY'].astype('timedelta64[D]').astype(int)\n",
    "\n",
    "\n",
    "    #_______________ DifferenceTraveltoFirstMeeting\n",
    "    df['DifferenceTraveltoFirstMeeting'] = df['Departure_Date_DoY'] - df['FirstMeeting_DoY']\n",
    "\n",
    "\n",
    "    #_______________ DifferenceTraveltoLastMeeting\n",
    "    df['DifferenceTraveltoLastMeeting'] = df['Departure_Date_DoY'] - df['LastMeeting_DoY']\n",
    "\n",
    "\n",
    "    #_______________ SchoolSizeIndicator\n",
    "    df['SchoolSizeIndicator'].fillna(df['SchoolSizeIndicator'].mode()[0], inplace=True)\n",
    "\n",
    "\n",
    "    #_______________ Deposit_Date\n",
    "    df['Deposit_Date'] = pd.to_datetime(df['Deposit_Date'])\n",
    "\n",
    "\n",
    "    #____**NEW**____ Deposit_Date_DoY\n",
    "    df['Deposit_Date_DoY'] = df['Deposit_Date'] - df['first_january']\n",
    "    df['Deposit_Date_DoY'] = df['Deposit_Date_DoY'].astype('timedelta64[D]').astype(int)\n",
    "\n",
    "\n",
    "    #_______________ Special_Pay\n",
    "    df['Special_Pay'] = df['Special_Pay'].replace({'0': df['Special_Pay'].mode()[0]})\n",
    "\n",
    "\n",
    "    #_______________ Drop Columns\n",
    "    df.drop(columns=['first_january'], inplace=True)\n",
    "    df.drop(columns=['Departure_Date', 'Return_Date', 'Early_RPL', 'Latest_RPL', 'FirstMeeting', 'LastMeeting', 'Initial_System_Date', 'Deposit_Date'], inplace=True)"
   ]
  },
  {
   "cell_type": "code",
   "execution_count": 8,
   "metadata": {},
   "outputs": [],
   "source": [
    "cleaning_1(df)\n",
    "df = dummification(df)"
   ]
  },
  {
   "cell_type": "code",
   "execution_count": 9,
   "metadata": {},
   "outputs": [
    {
     "name": "stdout",
     "output_type": "stream",
     "text": [
      "<class 'pandas.core.frame.DataFrame'>\n",
      "Int64Index: 4148 entries, 0 to 4147\n",
      "Columns: 239 entries, From_Grade to Special_Pay_SA\n",
      "dtypes: float64(10), int32(7), int64(19), uint8(203)\n",
      "memory usage: 2.0 MB\n"
     ]
    }
   ],
   "source": [
    "df.info()"
   ]
  },
  {
   "cell_type": "code",
   "execution_count": 41,
   "metadata": {},
   "outputs": [],
   "source": [
    "#df.to_excel(\"clean.xlsx\")"
   ]
  },
  {
   "cell_type": "markdown",
   "metadata": {},
   "source": [
    "## Models"
   ]
  },
  {
   "cell_type": "code",
   "execution_count": 10,
   "metadata": {},
   "outputs": [],
   "source": [
    "X = df.drop(columns=['Retained'])\n",
    "y = df['Retained']"
   ]
  },
  {
   "cell_type": "code",
   "execution_count": 46,
   "metadata": {},
   "outputs": [
    {
     "name": "stdout",
     "output_type": "stream",
     "text": [
      "(2903, 238)\n",
      "(1245, 238)\n"
     ]
    }
   ],
   "source": [
    "#SPLIT DATA INTO TRAIN AND TEST SET\n",
    "X_train, X_test, y_train, y_test = train_test_split(X, y,  #X_scaled\n",
    "                                                    test_size =0.30, #by default is 75%-25%\n",
    "                                                    #shuffle is set True by default,\n",
    "                                                    stratify=y,\n",
    "                                                    random_state= 123) #fix random seed for replicability\n",
    "\n",
    "print(X_train.shape)\n",
    "print(X_test.shape)"
   ]
  },
  {
   "cell_type": "markdown",
   "metadata": {},
   "source": [
    "### Classification Tree"
   ]
  },
  {
   "cell_type": "code",
   "execution_count": 47,
   "metadata": {},
   "outputs": [],
   "source": [
    "from sklearn.tree import DecisionTreeClassifier\n",
    "model = DecisionTreeClassifier(criterion='gini', max_depth=3, min_samples_split=4, min_samples_leaf=2)\n",
    "\n",
    "model.fit(X_train, y_train)\n",
    "y_pred = model.predict(X_test)"
   ]
  },
  {
   "cell_type": "code",
   "execution_count": 48,
   "metadata": {},
   "outputs": [
    {
     "name": "stdout",
     "output_type": "stream",
     "text": [
      "[[322 167]\n",
      " [145 611]]\n"
     ]
    }
   ],
   "source": [
    "from sklearn.metrics import confusion_matrix\n",
    "print(confusion_matrix(y_test, y_pred))"
   ]
  },
  {
   "cell_type": "code",
   "execution_count": 49,
   "metadata": {},
   "outputs": [],
   "source": [
    "#DEFINE YOUR CLASSIFIER and THE PARAMETERS GRID\n",
    "from sklearn.tree import DecisionTreeClassifier\n",
    "\n",
    "classifier = DecisionTreeClassifier()\n",
    "parameters = {'criterion': ['entropy','gini'], \n",
    "              'max_depth': [3,4,5,10],\n",
    "              'min_samples_split': [5,10,3],\n",
    "              'min_samples_leaf': [2,1]}"
   ]
  },
  {
   "cell_type": "code",
   "execution_count": 50,
   "metadata": {},
   "outputs": [],
   "source": [
    "#DEFINE YOUR GRIDSEARCH \n",
    "'''\n",
    "GS perfoms an exhaustive search over specified parameter values for an estimator.\n",
    "GS uses a Stratified K-Folds cross-validator\n",
    "(The folds are made by preserving the percentage of samples for each class.)\n",
    "If refit=True the model is retrained on the whole training set with the best found params\n",
    "'''\n",
    "gs = GridSearchCV(classifier, parameters, cv=3, scoring = 'f1', verbose=10, n_jobs=-1, refit=True)"
   ]
  },
  {
   "cell_type": "code",
   "execution_count": 51,
   "metadata": {},
   "outputs": [
    {
     "name": "stdout",
     "output_type": "stream",
     "text": [
      "Fitting 3 folds for each of 48 candidates, totalling 144 fits\n"
     ]
    },
    {
     "name": "stderr",
     "output_type": "stream",
     "text": [
      "[Parallel(n_jobs=-1)]: Using backend LokyBackend with 8 concurrent workers.\n",
      "[Parallel(n_jobs=-1)]: Batch computation too fast (0.0928s.) Setting batch_size=2.\n",
      "[Parallel(n_jobs=-1)]: Done   2 tasks      | elapsed:    0.0s\n",
      "[Parallel(n_jobs=-1)]: Done   9 tasks      | elapsed:    0.2s\n",
      "[Parallel(n_jobs=-1)]: Done  16 tasks      | elapsed:    0.3s\n",
      "[Parallel(n_jobs=-1)]: Done  34 tasks      | elapsed:    0.6s\n",
      "[Parallel(n_jobs=-1)]: Done  52 tasks      | elapsed:    0.9s\n",
      "[Parallel(n_jobs=-1)]: Done  74 tasks      | elapsed:    1.5s\n",
      "[Parallel(n_jobs=-1)]: Done  96 tasks      | elapsed:    1.8s\n",
      "[Parallel(n_jobs=-1)]: Done 144 out of 144 | elapsed:    2.7s remaining:    0.0s\n",
      "[Parallel(n_jobs=-1)]: Done 144 out of 144 | elapsed:    2.7s finished\n"
     ]
    }
   ],
   "source": [
    "#TRAIN YOUR CLASSIFIER\n",
    "gs = gs.fit(X_train, y_train)"
   ]
  },
  {
   "cell_type": "code",
   "execution_count": 52,
   "metadata": {},
   "outputs": [
    {
     "name": "stdout",
     "output_type": "stream",
     "text": [
      "***GRIDSEARCH RESULTS***\n",
      "Best score: 0.807722 using {'criterion': 'gini', 'max_depth': 10, 'min_samples_leaf': 1, 'min_samples_split': 3}\n",
      "0.789783 (0.006848) with: {'criterion': 'entropy', 'max_depth': 3, 'min_samples_leaf': 2, 'min_samples_split': 5}\n",
      "0.789783 (0.006848) with: {'criterion': 'entropy', 'max_depth': 3, 'min_samples_leaf': 2, 'min_samples_split': 10}\n",
      "0.789783 (0.006848) with: {'criterion': 'entropy', 'max_depth': 3, 'min_samples_leaf': 2, 'min_samples_split': 3}\n",
      "0.789783 (0.006848) with: {'criterion': 'entropy', 'max_depth': 3, 'min_samples_leaf': 1, 'min_samples_split': 5}\n",
      "0.789783 (0.006848) with: {'criterion': 'entropy', 'max_depth': 3, 'min_samples_leaf': 1, 'min_samples_split': 10}\n",
      "0.789783 (0.006848) with: {'criterion': 'entropy', 'max_depth': 3, 'min_samples_leaf': 1, 'min_samples_split': 3}\n",
      "0.787139 (0.001435) with: {'criterion': 'entropy', 'max_depth': 4, 'min_samples_leaf': 2, 'min_samples_split': 5}\n",
      "0.787139 (0.001435) with: {'criterion': 'entropy', 'max_depth': 4, 'min_samples_leaf': 2, 'min_samples_split': 10}\n",
      "0.787139 (0.001435) with: {'criterion': 'entropy', 'max_depth': 4, 'min_samples_leaf': 2, 'min_samples_split': 3}\n",
      "0.787139 (0.001435) with: {'criterion': 'entropy', 'max_depth': 4, 'min_samples_leaf': 1, 'min_samples_split': 5}\n",
      "0.787139 (0.001435) with: {'criterion': 'entropy', 'max_depth': 4, 'min_samples_leaf': 1, 'min_samples_split': 10}\n",
      "0.787139 (0.001435) with: {'criterion': 'entropy', 'max_depth': 4, 'min_samples_leaf': 1, 'min_samples_split': 3}\n",
      "0.782901 (0.004326) with: {'criterion': 'entropy', 'max_depth': 5, 'min_samples_leaf': 2, 'min_samples_split': 5}\n",
      "0.782901 (0.004326) with: {'criterion': 'entropy', 'max_depth': 5, 'min_samples_leaf': 2, 'min_samples_split': 10}\n",
      "0.782901 (0.004326) with: {'criterion': 'entropy', 'max_depth': 5, 'min_samples_leaf': 2, 'min_samples_split': 3}\n",
      "0.782901 (0.004326) with: {'criterion': 'entropy', 'max_depth': 5, 'min_samples_leaf': 1, 'min_samples_split': 5}\n",
      "0.782901 (0.004326) with: {'criterion': 'entropy', 'max_depth': 5, 'min_samples_leaf': 1, 'min_samples_split': 10}\n",
      "0.783223 (0.004550) with: {'criterion': 'entropy', 'max_depth': 5, 'min_samples_leaf': 1, 'min_samples_split': 3}\n",
      "0.782703 (0.008558) with: {'criterion': 'entropy', 'max_depth': 10, 'min_samples_leaf': 2, 'min_samples_split': 5}\n",
      "0.784794 (0.009578) with: {'criterion': 'entropy', 'max_depth': 10, 'min_samples_leaf': 2, 'min_samples_split': 10}\n",
      "0.782894 (0.009510) with: {'criterion': 'entropy', 'max_depth': 10, 'min_samples_leaf': 2, 'min_samples_split': 3}\n",
      "0.783401 (0.011763) with: {'criterion': 'entropy', 'max_depth': 10, 'min_samples_leaf': 1, 'min_samples_split': 5}\n",
      "0.783045 (0.013325) with: {'criterion': 'entropy', 'max_depth': 10, 'min_samples_leaf': 1, 'min_samples_split': 10}\n",
      "0.786820 (0.010648) with: {'criterion': 'entropy', 'max_depth': 10, 'min_samples_leaf': 1, 'min_samples_split': 3}\n",
      "0.786538 (0.003535) with: {'criterion': 'gini', 'max_depth': 3, 'min_samples_leaf': 2, 'min_samples_split': 5}\n",
      "0.786538 (0.003535) with: {'criterion': 'gini', 'max_depth': 3, 'min_samples_leaf': 2, 'min_samples_split': 10}\n",
      "0.786538 (0.003535) with: {'criterion': 'gini', 'max_depth': 3, 'min_samples_leaf': 2, 'min_samples_split': 3}\n",
      "0.786538 (0.003535) with: {'criterion': 'gini', 'max_depth': 3, 'min_samples_leaf': 1, 'min_samples_split': 5}\n",
      "0.786538 (0.003535) with: {'criterion': 'gini', 'max_depth': 3, 'min_samples_leaf': 1, 'min_samples_split': 10}\n",
      "0.786538 (0.003535) with: {'criterion': 'gini', 'max_depth': 3, 'min_samples_leaf': 1, 'min_samples_split': 3}\n",
      "0.780090 (0.003118) with: {'criterion': 'gini', 'max_depth': 4, 'min_samples_leaf': 2, 'min_samples_split': 5}\n",
      "0.780090 (0.003118) with: {'criterion': 'gini', 'max_depth': 4, 'min_samples_leaf': 2, 'min_samples_split': 10}\n",
      "0.780090 (0.003118) with: {'criterion': 'gini', 'max_depth': 4, 'min_samples_leaf': 2, 'min_samples_split': 3}\n",
      "0.780090 (0.003118) with: {'criterion': 'gini', 'max_depth': 4, 'min_samples_leaf': 1, 'min_samples_split': 5}\n",
      "0.780090 (0.003118) with: {'criterion': 'gini', 'max_depth': 4, 'min_samples_leaf': 1, 'min_samples_split': 10}\n",
      "0.780090 (0.003118) with: {'criterion': 'gini', 'max_depth': 4, 'min_samples_leaf': 1, 'min_samples_split': 3}\n",
      "0.777988 (0.005590) with: {'criterion': 'gini', 'max_depth': 5, 'min_samples_leaf': 2, 'min_samples_split': 5}\n",
      "0.777008 (0.004219) with: {'criterion': 'gini', 'max_depth': 5, 'min_samples_leaf': 2, 'min_samples_split': 10}\n",
      "0.777896 (0.005669) with: {'criterion': 'gini', 'max_depth': 5, 'min_samples_leaf': 2, 'min_samples_split': 3}\n",
      "0.778904 (0.005311) with: {'criterion': 'gini', 'max_depth': 5, 'min_samples_leaf': 1, 'min_samples_split': 5}\n",
      "0.777978 (0.006080) with: {'criterion': 'gini', 'max_depth': 5, 'min_samples_leaf': 1, 'min_samples_split': 10}\n",
      "0.778458 (0.005674) with: {'criterion': 'gini', 'max_depth': 5, 'min_samples_leaf': 1, 'min_samples_split': 3}\n",
      "0.798922 (0.011164) with: {'criterion': 'gini', 'max_depth': 10, 'min_samples_leaf': 2, 'min_samples_split': 5}\n",
      "0.798385 (0.009256) with: {'criterion': 'gini', 'max_depth': 10, 'min_samples_leaf': 2, 'min_samples_split': 10}\n",
      "0.795923 (0.012795) with: {'criterion': 'gini', 'max_depth': 10, 'min_samples_leaf': 2, 'min_samples_split': 3}\n",
      "0.803693 (0.011359) with: {'criterion': 'gini', 'max_depth': 10, 'min_samples_leaf': 1, 'min_samples_split': 5}\n",
      "0.800647 (0.009478) with: {'criterion': 'gini', 'max_depth': 10, 'min_samples_leaf': 1, 'min_samples_split': 10}\n",
      "0.807722 (0.010049) with: {'criterion': 'gini', 'max_depth': 10, 'min_samples_leaf': 1, 'min_samples_split': 3}\n"
     ]
    }
   ],
   "source": [
    "#summarize the results of your GRIDSEARCH\n",
    "print('***GRIDSEARCH RESULTS***')\n",
    "\n",
    "print(\"Best score: %f using %s\" % (gs.best_score_, gs.best_params_))\n",
    "means = gs.cv_results_['mean_test_score']\n",
    "stds = gs.cv_results_['std_test_score']\n",
    "params = gs.cv_results_['params']\n",
    "\n",
    "for mean, stdev, param in zip(means, stds, params):\n",
    "    print(\"%f (%f) with: %r\" % (mean, stdev, param))"
   ]
  },
  {
   "cell_type": "code",
   "execution_count": 53,
   "metadata": {},
   "outputs": [
    {
     "name": "stdout",
     "output_type": "stream",
     "text": [
      "***RESULTS ON TEST SET***\n",
      "f1_score:  0.813847158719791\n"
     ]
    }
   ],
   "source": [
    "#TEST ON YOUR TEST SET \n",
    "best_model = gs.best_estimator_\n",
    "y_pred = best_model.predict(X_test)\n",
    "\n",
    "#EVALUATE YOUR PREDICTION (on the y_test that you left aside)\n",
    "print('***RESULTS ON TEST SET***')\n",
    "print(\"f1_score: \", metrics.f1_score(y_test, y_pred))"
   ]
  },
  {
   "cell_type": "code",
   "execution_count": 54,
   "metadata": {},
   "outputs": [
    {
     "name": "stdout",
     "output_type": "stream",
     "text": [
      "***RESULTS ON TRAIN SET***\n",
      "f1_score:  0.9213863060016906\n"
     ]
    }
   ],
   "source": [
    "#TEST ON YOUR TRAIN SET \n",
    "best_model = gs.best_estimator_\n",
    "y_pred_train = best_model.predict(X_train)\n",
    "\n",
    "#EVALUATE YOUR PREDICTION (on the y_trai\n",
    "print('***RESULTS ON TRAIN SET***')\n",
    "print(\"f1_score: \", metrics.f1_score(y_train, y_pred_train))"
   ]
  },
  {
   "cell_type": "code",
   "execution_count": 55,
   "metadata": {},
   "outputs": [
    {
     "name": "stdout",
     "output_type": "stream",
     "text": [
      "              precision    recall  f1-score   support\n",
      "\n",
      "           0       0.72      0.69      0.70       489\n",
      "           1       0.80      0.82      0.81       756\n",
      "\n",
      "    accuracy                           0.77      1245\n",
      "   macro avg       0.76      0.76      0.76      1245\n",
      "weighted avg       0.77      0.77      0.77      1245\n",
      "\n"
     ]
    }
   ],
   "source": [
    "#PRINT SOME FURTHER METRICS\n",
    "print(classification_report(y_test, y_pred))"
   ]
  },
  {
   "cell_type": "code",
   "execution_count": 56,
   "metadata": {},
   "outputs": [
    {
     "name": "stdout",
     "output_type": "stream",
     "text": [
      "Confusion matrix, without normalization\n",
      "[[337 152]\n",
      " [133 623]]\n",
      "Normalized confusion matrix\n",
      "[[0.68916155 0.31083845]\n",
      " [0.17592593 0.82407407]]\n"
     ]
    },
    {
     "data": {
      "image/png": "[encoded data removed]",
      "text/plain": [
       "<Figure size 432x288 with 2 Axes>"
      ]
     },
     "metadata": {
      "needs_background": "light"
     },
     "output_type": "display_data"
    },
    {
     "data": {
      "image/png": "[encoded data removed]",
      "text/plain": [
       "<Figure size 432x288 with 2 Axes>"
      ]
     },
     "metadata": {
      "needs_background": "light"
     },
     "output_type": "display_data"
    }
   ],
   "source": [
    "# Plot confusion matrix\n",
    "titles_options = [(\"Confusion matrix, without normalization\", None),\n",
    "                  (\"Normalized confusion matrix\", 'true')]\n",
    "for title, normalize in titles_options:\n",
    "    disp = plot_confusion_matrix(best_model, X_test, y_test,\n",
    "                                 #display_labels=class_names,\n",
    "                                 cmap=plt.cm.Reds,\n",
    "                                 normalize=normalize)\n",
    "    disp.ax_.set_title(title)\n",
    "\n",
    "    print(title)\n",
    "    print(disp.confusion_matrix)\n",
    "\n",
    "plt.show()"
   ]
  },
  {
   "cell_type": "code",
   "execution_count": 57,
   "metadata": {},
   "outputs": [
    {
     "data": {
      "image/png": "[encoded data removed]",
      "text/plain": [
       "<Figure size 432x288 with 1 Axes>"
      ]
     },
     "metadata": {
      "needs_background": "light"
     },
     "output_type": "display_data"
    },
    {
     "name": "stdout",
     "output_type": "stream",
     "text": [
      "AUC: 0.81\n"
     ]
    }
   ],
   "source": [
    "model = DecisionTreeClassifier(criterion='gini', max_depth=4, min_samples_leaf=2, min_samples_split=5)\n",
    "model.fit(X_train, y_train)\n",
    "y_pred = model.predict(X_test)\n",
    "\n",
    "y_probs = model.predict_proba(X_test) #predict_proba gives the probabilities for the target (0 and 1 in your case) \n",
    "\n",
    "fpr, tpr, thresholds=metrics.roc_curve(y_test,  y_probs[:,1])\n",
    "\n",
    "import matplotlib.pyplot as plt\n",
    "plt.plot(fpr, tpr, label='ROC')\n",
    "plt.plot([0, 1], [0, 1], color='darkblue', linestyle='--')\n",
    "plt.xlabel('False Positive Rate')\n",
    "plt.ylabel('True Positive Rate')\n",
    "plt.title('Receiver Operating Characteristic (ROC) Curve')\n",
    "plt.legend()\n",
    "plt.show()\n",
    "\n",
    "auc = metrics.roc_auc_score(y_test, y_probs[:,1])\n",
    "print('AUC: %.2f' % auc)"
   ]
  },
  {
   "cell_type": "code",
   "execution_count": 58,
   "metadata": {},
   "outputs": [
    {
     "name": "stdout",
     "output_type": "stream",
     "text": [
      "|--- Delta_From_To_Grade <= 0.50\n",
      "|   |--- Total_Pax <= 16.50\n",
      "|   |   |--- SchoolGradeTypeLow_Undefined <= 0.50\n",
      "|   |   |   |--- FPP_to_School_enrollment_rev <= 0.00\n",
      "|   |   |   |   |--- class: 0\n",
      "|   |   |   |--- FPP_to_School_enrollment_rev >  0.00\n",
      "|   |   |   |   |--- class: 1\n",
      "|   |   |--- SchoolGradeTypeLow_Undefined >  0.50\n",
      "|   |   |   |--- Latest_RPL_DoY <= -105.00\n",
      "|   |   |   |   |--- class: 0\n",
      "|   |   |   |--- Latest_RPL_DoY >  -105.00\n",
      "|   |   |   |   |--- class: 0\n",
      "|   |--- Total_Pax >  16.50\n",
      "|   |   |--- FRP_Active <= 15.50\n",
      "|   |   |   |--- Deposit_Date_DoY <= -42.50\n",
      "|   |   |   |   |--- class: 1\n",
      "|   |   |   |--- Deposit_Date_DoY >  -42.50\n",
      "|   |   |   |   |--- class: 1\n",
      "|   |   |--- FRP_Active >  15.50\n",
      "|   |   |   |--- Group_State_SC <= 0.50\n",
      "|   |   |   |   |--- class: 1\n",
      "|   |   |   |--- Group_State_SC >  0.50\n",
      "|   |   |   |   |--- class: 0\n",
      "|--- Delta_From_To_Grade >  0.50\n",
      "|   |--- GroupGradeType_Middle->Middle <= 0.50\n",
      "|   |   |--- Total_School_Enrollment <= 702.00\n",
      "|   |   |   |--- DifferenceTraveltoLastMeeting <= 49.00\n",
      "|   |   |   |   |--- class: 1\n",
      "|   |   |   |--- DifferenceTraveltoLastMeeting >  49.00\n",
      "|   |   |   |   |--- class: 0\n",
      "|   |   |--- Total_School_Enrollment >  702.00\n",
      "|   |   |   |--- FPP_to_School_enrollment_rev <= 0.01\n",
      "|   |   |   |   |--- class: 0\n",
      "|   |   |   |--- FPP_to_School_enrollment_rev >  0.01\n",
      "|   |   |   |   |--- class: 0\n",
      "|   |--- GroupGradeType_Middle->Middle >  0.50\n",
      "|   |   |--- Program_Code_HN <= 0.50\n",
      "|   |   |   |--- Departure_Date_DoY <= 79.50\n",
      "|   |   |   |   |--- class: 1\n",
      "|   |   |   |--- Departure_Date_DoY >  79.50\n",
      "|   |   |   |   |--- class: 0\n",
      "|   |   |--- Program_Code_HN >  0.50\n",
      "|   |   |   |--- EZ_Pay_Take_Up_Rate <= 0.06\n",
      "|   |   |   |   |--- class: 0\n",
      "|   |   |   |--- EZ_Pay_Take_Up_Rate >  0.06\n",
      "|   |   |   |   |--- class: 1\n",
      "\n"
     ]
    }
   ],
   "source": [
    "from sklearn import tree\n",
    "r = tree.export_text(model,feature_names=X_test.columns.tolist())\n",
    "print(r)"
   ]
  },
  {
   "cell_type": "markdown",
   "metadata": {},
   "source": [
    "### Random Forest"
   ]
  },
  {
   "cell_type": "code",
   "execution_count": 59,
   "metadata": {},
   "outputs": [],
   "source": [
    "from sklearn.ensemble import RandomForestClassifier\n",
    "\n",
    "rand_forest = RandomForestClassifier(n_estimators=30, criterion='entropy', max_depth=6, min_samples_split=4, min_samples_leaf=2)\n",
    "#rand_forest = RandomForestClassifier()\n",
    "rand_forest.fit(X_train, y_train)\n",
    "\n",
    "y_pred = rand_forest.predict(X_test)"
   ]
  },
  {
   "cell_type": "code",
   "execution_count": 60,
   "metadata": {},
   "outputs": [
    {
     "name": "stdout",
     "output_type": "stream",
     "text": [
      "***RESULTS ON TEST SET***\n",
      "f1_score:  0.8119293974437006\n"
     ]
    }
   ],
   "source": [
    "#TEST ON YOUR TEST SET \n",
    "y_pred = rand_forest.predict(X_test)\n",
    "\n",
    "#EVALUATE YOUR PREDICTION (on the y_test that you left aside)\n",
    "print('***RESULTS ON TEST SET***')\n",
    "print(\"f1_score: \", metrics.f1_score(y_test, y_pred))"
   ]
  },
  {
   "cell_type": "code",
   "execution_count": 61,
   "metadata": {},
   "outputs": [
    {
     "name": "stdout",
     "output_type": "stream",
     "text": [
      "***RESULTS ON TRAIN SET***\n",
      "f1_score:  0.8483424693291569\n"
     ]
    }
   ],
   "source": [
    "#TEST ON YOUR TRAIN SET \n",
    "y_pred_train = rand_forest.predict(X_train)\n",
    "\n",
    "#EVALUATE YOUR PREDICTION (on the y_train)\n",
    "print('***RESULTS ON TRAIN SET***')\n",
    "print(\"f1_score: \", metrics.f1_score(y_train, y_pred_train))"
   ]
  },
  {
   "cell_type": "code",
   "execution_count": 62,
   "metadata": {},
   "outputs": [
    {
     "name": "stdout",
     "output_type": "stream",
     "text": [
      "              precision    recall  f1-score   support\n",
      "\n",
      "           0       0.75      0.55      0.64       489\n",
      "           1       0.75      0.88      0.81       756\n",
      "\n",
      "    accuracy                           0.75      1245\n",
      "   macro avg       0.75      0.72      0.72      1245\n",
      "weighted avg       0.75      0.75      0.74      1245\n",
      "\n"
     ]
    }
   ],
   "source": [
    "print(classification_report(y_test, y_pred))"
   ]
  },
  {
   "cell_type": "code",
   "execution_count": 63,
   "metadata": {},
   "outputs": [
    {
     "name": "stdout",
     "output_type": "stream",
     "text": [
      "Confusion matrix, without normalization\n",
      "[[337 152]\n",
      " [133 623]]\n",
      "Normalized confusion matrix\n",
      "[[0.68916155 0.31083845]\n",
      " [0.17592593 0.82407407]]\n"
     ]
    },
    {
     "data": {
      "image/png": "[encoded data removed]",
      "text/plain": [
       "<Figure size 432x288 with 2 Axes>"
      ]
     },
     "metadata": {
      "needs_background": "light"
     },
     "output_type": "display_data"
    },
    {
     "data": {
      "image/png": "[encoded data removed]",
      "text/plain": [
       "<Figure size 432x288 with 2 Axes>"
      ]
     },
     "metadata": {
      "needs_background": "light"
     },
     "output_type": "display_data"
    }
   ],
   "source": [
    "titles_options = [(\"Confusion matrix, without normalization\", None),\n",
    "                  (\"Normalized confusion matrix\", 'true')]\n",
    "for title, normalize in titles_options:\n",
    "    disp = plot_confusion_matrix(best_model, X_test, y_test,\n",
    "                                 #display_labels=class_names,\n",
    "                                 cmap=plt.cm.Reds,\n",
    "                                 normalize=normalize)\n",
    "    disp.ax_.set_title(title)\n",
    "\n",
    "    print(title)\n",
    "    print(disp.confusion_matrix)\n",
    "\n",
    "plt.show()"
   ]
  },
  {
   "cell_type": "code",
   "execution_count": 64,
   "metadata": {},
   "outputs": [
    {
     "data": {
      "image/png": "[encoded data removed]",
      "text/plain": [
       "<Figure size 432x288 with 1 Axes>"
      ]
     },
     "metadata": {
      "needs_background": "light"
     },
     "output_type": "display_data"
    },
    {
     "name": "stdout",
     "output_type": "stream",
     "text": [
      "AUC: 0.81\n"
     ]
    }
   ],
   "source": [
    "model = DecisionTreeClassifier(criterion='gini', max_depth=4, min_samples_leaf=2, min_samples_split=5)\n",
    "model.fit(X_train, y_train)\n",
    "y_pred = model.predict(X_test)\n",
    "\n",
    "y_probs = model.predict_proba(X_test) #predict_proba gives the probabilities for the target (0 and 1 in your case) \n",
    "\n",
    "fpr, tpr, thresholds=metrics.roc_curve(y_test,  y_probs[:,1])\n",
    "\n",
    "import matplotlib.pyplot as plt\n",
    "plt.plot(fpr, tpr, label='ROC')\n",
    "plt.plot([0, 1], [0, 1], color='darkblue', linestyle='--')\n",
    "plt.xlabel('False Positive Rate')\n",
    "plt.ylabel('True Positive Rate')\n",
    "plt.title('Receiver Operating Characteristic (ROC) Curve')\n",
    "plt.legend()\n",
    "plt.show()\n",
    "\n",
    "auc = metrics.roc_auc_score(y_test, y_probs[:,1])\n",
    "print('AUC: %.2f' % auc)"
   ]
  },
  {
   "cell_type": "code",
   "execution_count": 65,
   "metadata": {},
   "outputs": [
    {
     "data": {
      "image/png": "[encoded data removed]",
      "text/plain": [
       "<Figure size 432x288 with 1 Axes>"
      ]
     },
     "metadata": {
      "needs_background": "light"
     },
     "output_type": "display_data"
    }
   ],
   "source": [
    "# FEATURE IMPORTANCE:\n",
    "\n",
    "feat_importances = dict(zip(X_train.columns, rand_forest))\n",
    "feat_importances = pd.Series(rand_forest.feature_importances_, index=X_train.columns)\n",
    "feat_importances = feat_importances.sort_values(ascending=False)\n",
    "x = feat_importances.nlargest(20)\n",
    "x.plot(kind='barh')\n",
    "plt.gcf().subplots_adjust(bottom=0.15)\n",
    "plt.tight_layout()\n",
    "\n",
    "\n",
    "feat_importances=feat_importances.reset_index()\n",
    "feat_importances=feat_importances.rename(columns={'index':'features', 0:'importance'})"
   ]
  },
  {
   "cell_type": "code",
   "execution_count": null,
   "metadata": {},
   "outputs": [],
   "source": []
  },
  {
   "cell_type": "markdown",
   "metadata": {},
   "source": [
    "### Adaboost"
   ]
  },
  {
   "cell_type": "code",
   "execution_count": 31,
   "metadata": {},
   "outputs": [
    {
     "name": "stdout",
     "output_type": "stream",
     "text": [
      "f1_score:  0.8960709759188847\n"
     ]
    }
   ],
   "source": [
    "from sklearn.ensemble import AdaBoostClassifier\n",
    "\n",
    "adaboost = AdaBoostClassifier(n_estimators=1000, base_estimator=DecisionTreeClassifier(max_depth=10))\n",
    "adaboost.fit(X_train, y_train)\n",
    "\n",
    "y_pred = adaboost.predict(X_test)\n",
    "\n",
    "y_pred_train = adaboost.predict(X_train)\n",
    "print(\"f1_score: \", metrics.f1_score(y_test, y_pred))"
   ]
  },
  {
   "cell_type": "code",
   "execution_count": 32,
   "metadata": {},
   "outputs": [
    {
     "name": "stdout",
     "output_type": "stream",
     "text": [
      "Fitting 3 folds for each of 16 candidates, totalling 48 fits\n"
     ]
    },
    {
     "name": "stderr",
     "output_type": "stream",
     "text": [
      "[Parallel(n_jobs=-1)]: Using backend LokyBackend with 8 concurrent workers.\n",
      "[Parallel(n_jobs=-1)]: Done   2 tasks      | elapsed:    2.0s\n",
      "[Parallel(n_jobs=-1)]: Done   9 tasks      | elapsed:   17.0s\n",
      "[Parallel(n_jobs=-1)]: Done  16 tasks      | elapsed:   49.4s\n",
      "[Parallel(n_jobs=-1)]: Done  25 tasks      | elapsed:  1.1min\n",
      "[Parallel(n_jobs=-1)]: Done  38 out of  48 | elapsed:  1.7min remaining:   27.0s\n",
      "[Parallel(n_jobs=-1)]: Done  43 out of  48 | elapsed:  2.1min remaining:   14.3s\n",
      "[Parallel(n_jobs=-1)]: Done  48 out of  48 | elapsed:  2.4min remaining:    0.0s\n",
      "[Parallel(n_jobs=-1)]: Done  48 out of  48 | elapsed:  2.4min finished\n"
     ]
    },
    {
     "data": {
      "text/plain": [
       "GridSearchCV(cv=3, estimator=AdaBoostClassifier(), n_jobs=-1,\n",
       "             param_grid={'learning_rate': [0.0001, 0.01, 0.1, 1.0],\n",
       "                         'n_estimators': [100, 500, 1000, 2000]},\n",
       "             scoring='f1', verbose=10)"
      ]
     },
     "execution_count": 32,
     "metadata": {},
     "output_type": "execute_result"
    }
   ],
   "source": [
    "classifier= AdaBoostClassifier()\n",
    "parameters = {'n_estimators' : [100, 500, 1000, 2000],\n",
    "    'learning_rate' : [0.0001, 0.01, 0.1, 1.0]}\n",
    "\n",
    "gs = GridSearchCV(classifier, parameters, cv=3, scoring = 'f1', verbose=10, n_jobs=-1, refit=True)\n",
    "\n",
    "gs.fit(X_train,y_train)"
   ]
  },
  {
   "cell_type": "code",
   "execution_count": 157,
   "metadata": {},
   "outputs": [
    {
     "name": "stdout",
     "output_type": "stream",
     "text": [
      "***GRIDSEARCH RESULTS***\n",
      "Best score: 0.804802 using {'learning_rate': 0.1, 'n_estimators': 1000}\n",
      "0.786269 (0.006725) with: {'learning_rate': 0.0001, 'n_estimators': 100}\n",
      "0.786269 (0.006725) with: {'learning_rate': 0.0001, 'n_estimators': 500}\n",
      "0.786269 (0.006725) with: {'learning_rate': 0.0001, 'n_estimators': 1000}\n",
      "0.786269 (0.006725) with: {'learning_rate': 0.0001, 'n_estimators': 2000}\n",
      "0.786269 (0.006725) with: {'learning_rate': 0.01, 'n_estimators': 100}\n",
      "0.788023 (0.008970) with: {'learning_rate': 0.01, 'n_estimators': 500}\n",
      "0.794974 (0.007842) with: {'learning_rate': 0.01, 'n_estimators': 1000}\n",
      "0.796025 (0.009968) with: {'learning_rate': 0.01, 'n_estimators': 2000}\n",
      "0.794551 (0.008895) with: {'learning_rate': 0.1, 'n_estimators': 100}\n",
      "0.801192 (0.006179) with: {'learning_rate': 0.1, 'n_estimators': 500}\n",
      "0.804802 (0.004396) with: {'learning_rate': 0.1, 'n_estimators': 1000}\n",
      "0.800273 (0.007253) with: {'learning_rate': 0.1, 'n_estimators': 2000}\n",
      "0.792867 (0.008449) with: {'learning_rate': 1.0, 'n_estimators': 100}\n",
      "0.784108 (0.003241) with: {'learning_rate': 1.0, 'n_estimators': 500}\n",
      "0.780534 (0.001732) with: {'learning_rate': 1.0, 'n_estimators': 1000}\n",
      "0.775205 (0.006006) with: {'learning_rate': 1.0, 'n_estimators': 2000}\n"
     ]
    }
   ],
   "source": [
    "#summarize the results of your GRIDSEARCH\n",
    "print('***GRIDSEARCH RESULTS***')\n",
    "\n",
    "print(\"Best score: %f using %s\" % (gs.best_score_, gs.best_params_))\n",
    "means = gs.cv_results_['mean_test_score']\n",
    "stds = gs.cv_results_['std_test_score']\n",
    "params = gs.cv_results_['params']\n",
    "\n",
    "for mean, stdev, param in zip(means, stds, params):\n",
    "    print(\"%f (%f) with: %r\" % (mean, stdev, param))"
   ]
  },
  {
   "cell_type": "code",
   "execution_count": 158,
   "metadata": {},
   "outputs": [],
   "source": [
    "#TEST ON YOUR TEST SET \n",
    "best_model = gs.best_estimator_\n",
    "y_pred = best_model.predict(X_test)"
   ]
  },
  {
   "cell_type": "code",
   "execution_count": 159,
   "metadata": {},
   "outputs": [
    {
     "name": "stdout",
     "output_type": "stream",
     "text": [
      "Confusion matrix, without normalization\n",
      "[[327 162]\n",
      " [124 632]]\n",
      "Normalized confusion matrix\n",
      "[[0.66871166 0.33128834]\n",
      " [0.16402116 0.83597884]]\n"
     ]
    },
    {
     "data": {
      "image/png": "[encoded data removed]",
      "text/plain": [
       "<Figure size 432x288 with 2 Axes>"
      ]
     },
     "metadata": {
      "needs_background": "light"
     },
     "output_type": "display_data"
    },
    {
     "data": {
      "image/png": "[encoded data removed]",
      "text/plain": [
       "<Figure size 432x288 with 2 Axes>"
      ]
     },
     "metadata": {
      "needs_background": "light"
     },
     "output_type": "display_data"
    }
   ],
   "source": [
    "# Plot confusion matrix\n",
    "titles_options = [(\"Confusion matrix, without normalization\", None),\n",
    "                  (\"Normalized confusion matrix\", 'true')]\n",
    "for title, normalize in titles_options:\n",
    "    disp = plot_confusion_matrix(best_model, X_test, y_test,\n",
    "                                 #display_labels=class_names,\n",
    "                                 cmap=plt.cm.Reds,\n",
    "                                 normalize=normalize)\n",
    "    disp.ax_.set_title(title)\n",
    "\n",
    "    print(title)\n",
    "    print(disp.confusion_matrix)\n",
    "\n",
    "plt.show()"
   ]
  },
  {
   "cell_type": "code",
   "execution_count": 160,
   "metadata": {},
   "outputs": [
    {
     "name": "stdout",
     "output_type": "stream",
     "text": [
      "              precision    recall  f1-score   support\n",
      "\n",
      "           0       0.73      0.67      0.70       489\n",
      "           1       0.80      0.84      0.82       756\n",
      "\n",
      "    accuracy                           0.77      1245\n",
      "   macro avg       0.76      0.75      0.76      1245\n",
      "weighted avg       0.77      0.77      0.77      1245\n",
      "\n"
     ]
    }
   ],
   "source": [
    "print(classification_report(y_test, y_pred))"
   ]
  },
  {
   "cell_type": "code",
   "execution_count": 161,
   "metadata": {},
   "outputs": [
    {
     "name": "stdout",
     "output_type": "stream",
     "text": [
      "f1_score:  1.0\n"
     ]
    }
   ],
   "source": [
    "y_pred_train = adaboost.predict(X_train)\n",
    "print(\"f1_score: \", metrics.f1_score(y_train, y_pred_train))"
   ]
  },
  {
   "cell_type": "code",
   "execution_count": 162,
   "metadata": {},
   "outputs": [
    {
     "data": {
      "image/png": "[encoded data removed]",
      "text/plain": [
       "<Figure size 432x288 with 1 Axes>"
      ]
     },
     "metadata": {
      "needs_background": "light"
     },
     "output_type": "display_data"
    },
    {
     "name": "stdout",
     "output_type": "stream",
     "text": [
      "AUC: 0.84\n"
     ]
    }
   ],
   "source": [
    "adaboost = AdaBoostClassifier(n_estimators=2000, learning_rate=0.1)\n",
    "\n",
    "adaboost.fit(X_train,y_train)\n",
    "\n",
    "y_probs = adaboost.predict_proba(X_test) #predict_proba gives the probabilities for the target (0 and 1 in your case) \n",
    "\n",
    "fpr, tpr, thresholds=metrics.roc_curve(y_test,  y_probs[:,1])\n",
    "\n",
    "import matplotlib.pyplot as plt\n",
    "plt.plot(fpr, tpr, label='ROC')\n",
    "plt.plot([0, 1], [0, 1], color='darkblue', linestyle='--')\n",
    "plt.xlabel('False Positive Rate')\n",
    "plt.ylabel('True Positive Rate')\n",
    "plt.title('Receiver Operating Characteristic (ROC) Curve')\n",
    "plt.legend()\n",
    "plt.show()\n",
    "\n",
    "auc = metrics.roc_auc_score(y_test, y_probs[:,1])\n",
    "print('AUC: %.2f' % auc)"
   ]
  }
 ],
 "metadata": {
  "kernelspec": {
   "display_name": "Python 3",
   "language": "python",
   "name": "python3"
  },
  "language_info": {
   "codemirror_mode": {
    "name": "ipython",
    "version": 3
   },
   "file_extension": ".py",
   "mimetype": "text/x-python",
   "name": "python",
   "nbconvert_exporter": "python",
   "pygments_lexer": "ipython3",
   "version": "3.7.8"
  }
 },
 "nbformat": 4,
 "nbformat_minor": 4
}
